{
 "cells": [
  {
   "cell_type": "markdown",
   "id": "3b81e707-f210-477c-bc8f-fa04625de3ec",
   "metadata": {
    "ExecuteTime": {
     "start_time": "2024-06-17T08:21:21.570984Z"
    },
    "is_executing": true
   },
   "source": [
    "<div style=\"background-color: #4f0d31; color: #FFFFFF; padding: 10px; text-align: center; border-radius: 15px 15px 5px 5px; box-shadow: 0 4px 8px rgba(0, 0, 0, 0.5);\">\n",
    "  <h1 style=\"margin: 0; font-family: 'Helvetica Neue', Helvetica, Arial, sans-serif; font-weight: bold; font-size: 32px;\">Understanding k-Nearest Neighbours (kNN)</h1>\n",
    "    <h2 style=\"margin: 0; font-family: 'Helvetica Neue', Helvetica, Arial, sans-serif; font-weight: bold; font-size: 32px;\"> From Stratch</h2>\n",
    "</div>"
   ]
  },
  {
   "cell_type": "markdown",
   "id": "7b4f2970-ede6-49b7-b8e4-2447fd64e27f",
   "metadata": {},
   "source": [
    "The k-nearest neighbors (KNN) algorithm is a non-parametric, supervised learning classifier, which uses proximity to make classifications or predictions about the grouping of an individual data point."
   ]
  },
  {
   "cell_type": "code",
   "execution_count": 32,
   "id": "370e526067e042c",
   "metadata": {
    "collapsed": false,
    "jupyter": {
     "outputs_hidden": false
    }
   },
   "outputs": [],
   "source": [
    "import numpy as np\n",
    "import pandas as pd\n",
    "import seaborn as sns\n",
    "sns.set(style='darkgrid', font_scale=1.4)\n",
    "import matplotlib.pyplot as plt\n",
    "%matplotlib inline\n",
    "from sklearn.model_selection import train_test_split\n",
    "from scipy import stats\n",
    "import time"
   ]
  },
  {
   "cell_type": "markdown",
   "id": "c8af721f-abf5-4cd2-9dbd-543cc8597ffa",
   "metadata": {},
   "source": [
    "<div style=\"background-color: #4f0d31; color: #FFFFFF; padding: 10px; text-align: center; border-radius: 15px 15px 5px 5px; box-shadow: 0 4px 8px rgba(0, 0, 0, 0.5);\">\n",
    "  <h1 style=\"margin: 0; font-family: 'Helvetica Neue', Helvetica, Arial, sans-serif; font-weight: bold; font-size: 32px;\">Motivation</h1>\n",
    "\n",
    "</div>"
   ]
  },
  {
   "cell_type": "markdown",
   "id": "7b30b219-3503-4fa0-ba1d-704e89d4cc85",
   "metadata": {},
   "source": [
    "\n",
    "- k-Nearest Neighbors (k-NN) is a powerful yet straightforward classification algorithm. It predicts the class of a new data point by comparing it to its k-nearest neighbors in the dataset and assigning the class that is most common among those neighbors.\n",
    "\n",
    "- Unlike many other machine learning algorithms, k-NN does not involve a training phase. Instead, the entire training dataset is stored and utilized directly during the prediction phase."
   ]
  },
  {
   "cell_type": "markdown",
   "id": "402c9ac4-d580-4f0d-af28-959759c31a24",
   "metadata": {},
   "source": [
    "<div style=\"text-align:center;\">\n",
    "<img src=\"images/algorithm.png\" style=\"width:650px;height:250px;\">\n"
   ]
  },
  {
   "cell_type": "markdown",
   "id": "4dacf6b8-f406-4ec0-8352-9e633347dc92",
   "metadata": {},
   "source": [
    "### Choosing the Value of k\n",
    "\n",
    "The algorithm's performance can be sensitive to the value of k:\n",
    "\n",
    "- **Small k values**: When k is small, the model is sensitive to noise and is prone to overfitting.\n",
    "- **Large k values**: Large values of k can lead to underfitting, especially if there is class imbalance.\n",
    "\n",
    "**Guidelines for choosing k**:\n",
    "\n",
    "- When the number of classes is 2, k should be an odd number to prevent any 'tied votes' when making predictions.\n",
    "- The value of k should be bigger than the number of classes for similar reasons.\n"
   ]
  },
  {
   "cell_type": "markdown",
   "id": "0d99298a-09f0-4c16-aee1-b0379d812139",
   "metadata": {},
   "source": [
    "<div style=\"text-align:center;\">\n",
    "<img src=\"images/knn.gif\" style=\"width:350px;height:300px;\">"
   ]
  },
  {
   "cell_type": "markdown",
   "id": "5019ec51-a616-4338-ab4a-034d6e926579",
   "metadata": {},
   "source": [
    "\n",
    "\n",
    "<div style=\"background-color: #4f0d31; color: #FFFFFF; padding: 10px; text-align: center; border-radius: 15px 15px 5px 5px; box-shadow: 0 4px 8px rgba(0, 0, 0, 0.5);\">\n",
    "  <h1 style=\"margin: 0; font-family: 'Helvetica Neue', Helvetica, Arial, sans-serif; font-weight: bold; font-size: 32px;\">Metrics</h1>\n",
    "\n",
    "</div>"
   ]
  },
  {
   "cell_type": "markdown",
   "id": "06fac0e1-43e7-4e52-8f0d-171958779250",
   "metadata": {},
   "source": [
    "\n",
    "\n",
    "The meaning of 'nearest' depends on what metric you use. Usually, Euclidean distance is used but others like Manhattan and Minkowski distance can be used as well."
   ]
  },
  {
   "cell_type": "markdown",
   "id": "c97a277f-5bac-4525-8bf8-98284a797db4",
   "metadata": {},
   "source": [
    "<div style=\"text-align:center;\">\n",
    "<img src=\"images/metrics.png\" style=\"width:650px;height:250px;\">"
   ]
  },
  {
   "cell_type": "markdown",
   "id": "9535489c-e1e1-4770-9a28-3b95dd95ea2d",
   "metadata": {},
   "source": [
    "\n",
    "\n",
    "<div style=\"background-color: #4f0d31; color: #FFFFFF; padding: 10px; text-align: center; border-radius: 15px 15px 5px 5px; box-shadow: 0 4px 8px rgba(0, 0, 0, 0.5);\">\n",
    "  <h1 style=\"margin: 0; font-family: 'Helvetica Neue', Helvetica, Arial, sans-serif; font-weight: bold; font-size: 32px;\">Data</h1>\n",
    "\n",
    "</div>"
   ]
  },
  {
   "cell_type": "markdown",
   "id": "df934c38-3680-4607-ab81-7461df5dc515",
   "metadata": {},
   "source": [
    "\n",
    "We will apply the kNN algorithm on the famous UCI breast cancer dataset. This is a binary classification problem where the goal is to predict whether a patient has breast cancer or not using several features extracted from images."
   ]
  },
  {
   "cell_type": "code",
   "execution_count": 26,
   "id": "eed11c58-8972-4743-9fb9-8c9ab3704a64",
   "metadata": {},
   "outputs": [
    {
     "name": "stdout",
     "output_type": "stream",
     "text": [
      "Dataframe shape: (569, 31)\n"
     ]
    },
    {
     "data": {
      "text/html": [
       "<div>\n",
       "<style scoped>\n",
       "    .dataframe tbody tr th:only-of-type {\n",
       "        vertical-align: middle;\n",
       "    }\n",
       "\n",
       "    .dataframe tbody tr th {\n",
       "        vertical-align: top;\n",
       "    }\n",
       "\n",
       "    .dataframe thead th {\n",
       "        text-align: right;\n",
       "    }\n",
       "</style>\n",
       "<table border=\"1\" class=\"dataframe\">\n",
       "  <thead>\n",
       "    <tr style=\"text-align: right;\">\n",
       "      <th></th>\n",
       "      <th>diagnosis</th>\n",
       "      <th>radius_mean</th>\n",
       "      <th>texture_mean</th>\n",
       "      <th>perimeter_mean</th>\n",
       "      <th>area_mean</th>\n",
       "      <th>smoothness_mean</th>\n",
       "      <th>compactness_mean</th>\n",
       "      <th>concavity_mean</th>\n",
       "      <th>concave points_mean</th>\n",
       "      <th>symmetry_mean</th>\n",
       "      <th>...</th>\n",
       "      <th>radius_worst</th>\n",
       "      <th>texture_worst</th>\n",
       "      <th>perimeter_worst</th>\n",
       "      <th>area_worst</th>\n",
       "      <th>smoothness_worst</th>\n",
       "      <th>compactness_worst</th>\n",
       "      <th>concavity_worst</th>\n",
       "      <th>concave points_worst</th>\n",
       "      <th>symmetry_worst</th>\n",
       "      <th>fractal_dimension_worst</th>\n",
       "    </tr>\n",
       "  </thead>\n",
       "  <tbody>\n",
       "    <tr>\n",
       "      <th>0</th>\n",
       "      <td>M</td>\n",
       "      <td>17.99</td>\n",
       "      <td>10.38</td>\n",
       "      <td>122.8</td>\n",
       "      <td>1001.0</td>\n",
       "      <td>0.11840</td>\n",
       "      <td>0.27760</td>\n",
       "      <td>0.3001</td>\n",
       "      <td>0.14710</td>\n",
       "      <td>0.2419</td>\n",
       "      <td>...</td>\n",
       "      <td>25.38</td>\n",
       "      <td>17.33</td>\n",
       "      <td>184.6</td>\n",
       "      <td>2019.0</td>\n",
       "      <td>0.1622</td>\n",
       "      <td>0.6656</td>\n",
       "      <td>0.7119</td>\n",
       "      <td>0.2654</td>\n",
       "      <td>0.4601</td>\n",
       "      <td>0.11890</td>\n",
       "    </tr>\n",
       "    <tr>\n",
       "      <th>1</th>\n",
       "      <td>M</td>\n",
       "      <td>20.57</td>\n",
       "      <td>17.77</td>\n",
       "      <td>132.9</td>\n",
       "      <td>1326.0</td>\n",
       "      <td>0.08474</td>\n",
       "      <td>0.07864</td>\n",
       "      <td>0.0869</td>\n",
       "      <td>0.07017</td>\n",
       "      <td>0.1812</td>\n",
       "      <td>...</td>\n",
       "      <td>24.99</td>\n",
       "      <td>23.41</td>\n",
       "      <td>158.8</td>\n",
       "      <td>1956.0</td>\n",
       "      <td>0.1238</td>\n",
       "      <td>0.1866</td>\n",
       "      <td>0.2416</td>\n",
       "      <td>0.1860</td>\n",
       "      <td>0.2750</td>\n",
       "      <td>0.08902</td>\n",
       "    </tr>\n",
       "    <tr>\n",
       "      <th>2</th>\n",
       "      <td>M</td>\n",
       "      <td>19.69</td>\n",
       "      <td>21.25</td>\n",
       "      <td>130.0</td>\n",
       "      <td>1203.0</td>\n",
       "      <td>0.10960</td>\n",
       "      <td>0.15990</td>\n",
       "      <td>0.1974</td>\n",
       "      <td>0.12790</td>\n",
       "      <td>0.2069</td>\n",
       "      <td>...</td>\n",
       "      <td>23.57</td>\n",
       "      <td>25.53</td>\n",
       "      <td>152.5</td>\n",
       "      <td>1709.0</td>\n",
       "      <td>0.1444</td>\n",
       "      <td>0.4245</td>\n",
       "      <td>0.4504</td>\n",
       "      <td>0.2430</td>\n",
       "      <td>0.3613</td>\n",
       "      <td>0.08758</td>\n",
       "    </tr>\n",
       "  </tbody>\n",
       "</table>\n",
       "<p>3 rows × 31 columns</p>\n",
       "</div>"
      ],
      "text/plain": [
       "  diagnosis  radius_mean  texture_mean  perimeter_mean  area_mean  \\\n",
       "0         M        17.99         10.38           122.8     1001.0   \n",
       "1         M        20.57         17.77           132.9     1326.0   \n",
       "2         M        19.69         21.25           130.0     1203.0   \n",
       "\n",
       "   smoothness_mean  compactness_mean  concavity_mean  concave points_mean  \\\n",
       "0          0.11840           0.27760          0.3001              0.14710   \n",
       "1          0.08474           0.07864          0.0869              0.07017   \n",
       "2          0.10960           0.15990          0.1974              0.12790   \n",
       "\n",
       "   symmetry_mean  ...  radius_worst  texture_worst  perimeter_worst  \\\n",
       "0         0.2419  ...         25.38          17.33            184.6   \n",
       "1         0.1812  ...         24.99          23.41            158.8   \n",
       "2         0.2069  ...         23.57          25.53            152.5   \n",
       "\n",
       "   area_worst  smoothness_worst  compactness_worst  concavity_worst  \\\n",
       "0      2019.0            0.1622             0.6656           0.7119   \n",
       "1      1956.0            0.1238             0.1866           0.2416   \n",
       "2      1709.0            0.1444             0.4245           0.4504   \n",
       "\n",
       "   concave points_worst  symmetry_worst  fractal_dimension_worst  \n",
       "0                0.2654          0.4601                  0.11890  \n",
       "1                0.1860          0.2750                  0.08902  \n",
       "2                0.2430          0.3613                  0.08758  \n",
       "\n",
       "[3 rows x 31 columns]"
      ]
     },
     "execution_count": 26,
     "metadata": {},
     "output_type": "execute_result"
    }
   ],
   "source": [
    "# Load data\n",
    "data = pd.read_csv('Dataset/data.csv', index_col='id').reset_index(drop=True)\n",
    "data.drop('Unnamed: 32', axis=1, inplace=True)\n",
    "\n",
    "# Preview data\n",
    "print('Dataframe shape:', data.shape)\n",
    "data.head(3)"
   ]
  },
  {
   "cell_type": "markdown",
   "id": "79c63112-1ed4-4294-82bb-de6d8ea75957",
   "metadata": {},
   "source": [
    "\n",
    "Pre-process data"
   ]
  },
  {
   "cell_type": "code",
   "execution_count": 33,
   "id": "a21e80f0-7cad-4309-89b8-e434cb98ea02",
   "metadata": {},
   "outputs": [],
   "source": [
    "# Features and labels\n",
    "X = data.drop('diagnosis', axis=1)\n",
    "y = data['diagnosis']\n",
    "\n",
    "# Encode target to binary\n",
    "y = (y=='M').astype('int')"
   ]
  },
  {
   "cell_type": "markdown",
   "id": "560bae32-3ef3-4696-9088-c6b1d1b13ec2",
   "metadata": {},
   "source": [
    "Split data"
   ]
  },
  {
   "cell_type": "code",
   "execution_count": 34,
   "id": "cbc891d3-5072-4210-b76c-300c3ac7f73b",
   "metadata": {},
   "outputs": [],
   "source": [
    "# Split dataset into training and testing data (80/20 split)\n",
    "X_train, X_test, y_train, y_test = train_test_split(X, y, test_size=0.2, random_state=4)"
   ]
  },
  {
   "cell_type": "markdown",
   "id": "63c01ab4-7ad4-4766-a6a4-1f7e81a3012b",
   "metadata": {},
   "source": [
    "\n",
    "\n",
    "<div style=\"background-color: #4f0d31; color: #FFFFFF; padding: 10px; text-align: center; border-radius: 15px 15px 5px 5px; box-shadow: 0 4px 8px rgba(0, 0, 0, 0.5);\">\n",
    "  <h1 style=\"margin: 0; font-family: 'Helvetica Neue', Helvetica, Arial, sans-serif; font-weight: bold; font-size: 32px;\">KNN model</h1>\n",
    "\n",
    "</div>"
   ]
  },
  {
   "cell_type": "markdown",
   "id": "a02463d7-4a1d-4277-8a87-822baebc39d0",
   "metadata": {},
   "source": [
    "\n",
    "We will implement the model as a class. Although more complicated, it allows us to write methods like 'fit' and 'predict', which provides more flexibility."
   ]
  },
  {
   "cell_type": "code",
   "execution_count": 21,
   "id": "10bfb8ff-bb58-49c1-ae95-44cc2132777d",
   "metadata": {},
   "outputs": [],
   "source": [
    "class kNN():\n",
    "    '''k-Nearest Neighbours'''\n",
    "    # Initialise\n",
    "    def __init__(self, k=3, metric='euclidean', p=None):\n",
    "        self.k = k\n",
    "        self.metric = metric\n",
    "        self.p = p\n",
    "    \n",
    "    # Euclidean distance (l2 norm)\n",
    "    def euclidean(self, v1, v2):\n",
    "        return np.sqrt(np.sum((v1-v2)**2))\n",
    "    \n",
    "    # Manhattan distance (l1 norm)\n",
    "    def manhattan(self, v1, v2):\n",
    "        return np.sum(np.abs(v1-v2))\n",
    "    \n",
    "    # Minkowski distance (lp norm)\n",
    "    def minkowski(self, v1, v2, p=2):\n",
    "        return np.sum(np.abs(v1-v2)**p)**(1/p)\n",
    "        \n",
    "    # Store train set\n",
    "    def fit(self, X_train, y_train):\n",
    "        self.X_train = X_train\n",
    "        self.y_train = y_train\n",
    "        \n",
    "    # Make predictions\n",
    "    def predict(self, X_test):\n",
    "        preds = []\n",
    "        # Loop over rows in test set\n",
    "        for test_row in X_test:\n",
    "            nearest_neighbours = self.get_neighbours(test_row)\n",
    "            majority =pd.Series(nearest_neighbours).mode()[0]\n",
    "            preds.append(majority)\n",
    "        return np.array(preds)\n",
    "    # Get nearest neighbours\n",
    "    def get_neighbours(self, test_row):\n",
    "        distances = list()\n",
    "        \n",
    "        # Calculate distance to all points in X_train\n",
    "        for (train_row, train_class) in zip(self.X_train, self.y_train):\n",
    "            if self.metric=='euclidean':\n",
    "                dist = self.euclidean(train_row, test_row)\n",
    "            elif self.metric=='manhattan':\n",
    "                dist = self.manhattan(train_row, test_row)\n",
    "            elif self.metric=='minkowski':\n",
    "                dist = self.minkowski(train_row, test_row, self.p)\n",
    "            else:\n",
    "                raise NameError('Supported metrics are euclidean, manhattan and minkowski')\n",
    "            distances.append((dist, train_class))\n",
    "            \n",
    "        # Sort distances\n",
    "        distances.sort(key=lambda x: x[0])\n",
    "        \n",
    "        # Identify k nearest neighbours\n",
    "        neighbours = list()\n",
    "        for i in range(self.k):\n",
    "            neighbours.append(distances[i][1])\n",
    "            \n",
    "        return neighbours"
   ]
  },
  {
   "cell_type": "markdown",
   "id": "c5ec0b88-0bd4-46d7-b9a9-273f51f934b6",
   "metadata": {},
   "source": [
    "Apply algorithm"
   ]
  },
  {
   "cell_type": "code",
   "execution_count": 22,
   "id": "57acb72e-8558-45cd-8b45-19539ecdf768",
   "metadata": {},
   "outputs": [
    {
     "name": "stdout",
     "output_type": "stream",
     "text": [
      "Metric: euclidean, accuracy: 87.719 %\n",
      "Metric: manhattan, accuracy: 91.228 %\n"
     ]
    }
   ],
   "source": [
    "# Function to calculate accuracy\n",
    "def accuracy(preds, y_test):\n",
    "    return 100 * (preds == y_test).mean()\n",
    "\n",
    "# Apply our kNN algorithm\n",
    "for metric in ['euclidean', 'manhattan']:\n",
    "    clf = kNN(k=5, metric=metric)\n",
    "    clf.fit(X_train.values, y_train.values)\n",
    "    preds = clf.predict(X_test.values)\n",
    "    print(f'Metric: {metric}, accuracy: {accuracy(preds, y_test):.3f} %')"
   ]
  },
  {
   "cell_type": "code",
   "execution_count": 23,
   "id": "650cdfd4-0061-46f1-bdd3-fb2386681f80",
   "metadata": {},
   "outputs": [
    {
     "name": "stdout",
     "output_type": "stream",
     "text": [
      "Sklearn accuracy: 87.719 %\n"
     ]
    }
   ],
   "source": [
    "from sklearn.neighbors import KNeighborsClassifier\n",
    "\n",
    "clf = KNeighborsClassifier(n_neighbors=5)\n",
    "clf.fit(X_train.values, y_train.values)\n",
    "preds = clf.predict(X_test.values)\n",
    "\n",
    "# Calculate test set accuracy\n",
    "def accuracy(preds, y_test):\n",
    "    return 100 * (preds == y_test).mean()\n",
    "print(f'Sklearn accuracy: {accuracy(preds, y_test):.3f} %')"
   ]
  },
  {
   "cell_type": "markdown",
   "id": "432e0a38-feb1-46cd-8840-6bff079f5580",
   "metadata": {},
   "source": [
    "\n",
    "<div style=\"background-color: #4f0d31; color: #FFFFFF; padding: 10px; text-align: center; border-radius: 15px 15px 5px 5px; box-shadow: 0 4px 8px rgba(0, 0, 0, 0.5);\">\n",
    "  <h1 style=\"margin: 0; font-family: 'Helvetica Neue', Helvetica, Arial, sans-serif; font-weight: bold; font-size: 32px;\">Observations</h1>\n",
    "\n",
    "</div>"
   ]
  },
  {
   "cell_type": "code",
   "execution_count": 24,
   "id": "6899c341-cf99-4402-ad61-1edffb296782",
   "metadata": {},
   "outputs": [
    {
     "data": {
      "image/png": "[encoded data removed]",
      "text/plain": [
       "<Figure size 1400x500 with 2 Axes>"
      ]
     },
     "metadata": {},
     "output_type": "display_data"
    }
   ],
   "source": [
    "k_max = 30\n",
    "accuracies = []\n",
    "times = []\n",
    "\n",
    "for k in range(3,k_max):\n",
    "    clf = kNN(k=k, metric='euclidean')\n",
    "    clf.fit(X_train.values, y_train.values)\n",
    "    \n",
    "    start = time.time()\n",
    "    preds = clf.predict(X_test.values)\n",
    "    stop = time.time()\n",
    "    \n",
    "    acc = accuracy(preds, y_test)\n",
    "    accuracies.append(acc)\n",
    "    times.append(stop-start)\n",
    "    \n",
    "plt.figure(figsize=(14,5))\n",
    "plt.subplot(1,2,1)\n",
    "plt.plot(range(3,k_max), accuracies, marker='o')\n",
    "plt.xlabel('k')\n",
    "plt.ylabel('Accuracy')\n",
    "plt.title('k vs accuracy')\n",
    "\n",
    "plt.subplot(1,2,2)\n",
    "plt.plot(range(3,k_max), times, marker='o', c='C1')\n",
    "plt.xlabel('k')\n",
    "plt.ylabel('Time (seconds)')\n",
    "plt.title('k vs time')\n",
    "plt.tight_layout()\n",
    "plt.show()"
   ]
  },
  {
   "cell_type": "markdown",
   "id": "78778f06-8143-4f89-85e2-8bc90cad071d",
   "metadata": {},
   "source": [
    "\n",
    "\n",
    "- The accuracy is highest for small values of k and then goes down and flattens off.\n",
    "- The prediction time is independent of k. This is because we calculate the distance between all points regardless of the value of k. There are more efficient implementations of k-NN than this."
   ]
  },
  {
   "cell_type": "code",
   "execution_count": null,
   "id": "d9876118-ce4c-4970-bc18-d36724a4c5f7",
   "metadata": {},
   "outputs": [],
   "source": []
  }
 ],
 "metadata": {
  "kernelspec": {
   "display_name": "Python 3 (ipykernel)",
   "language": "python",
   "name": "python3"
  },
  "language_info": {
   "codemirror_mode": {
    "name": "ipython",
    "version": 3
   },
   "file_extension": ".py",
   "mimetype": "text/x-python",
   "name": "python",
   "nbconvert_exporter": "python",
   "pygments_lexer": "ipython3",
   "version": "3.8.5"
  }
 },
 "nbformat": 4,
 "nbformat_minor": 5
}
